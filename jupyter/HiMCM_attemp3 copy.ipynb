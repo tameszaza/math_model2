{
 "cells": [
  {
   "cell_type": "markdown",
   "metadata": {
    "id": "J_g6LXs9kJlb"
   },
   "source": [
    "# Dataset to Sequence"
   ]
  },
  {
   "cell_type": "code",
   "execution_count": 5,
   "metadata": {
    "id": "8lN8kbQtkPXB"
   },
   "outputs": [],
   "source": [
    "import pandas as pd\n",
    "import matplotlib.pyplot as plt\n",
    "import numpy as np\n",
    "from tensorflow.keras.models import Sequential\n",
    "from tensorflow.keras.layers import LSTM, Dense\n",
    "from tensorflow.keras.optimizers import Adam\n",
    "from sklearn.model_selection import train_test_split\n",
    "from sklearn.preprocessing import MinMaxScaler"
   ]
  },
  {
   "cell_type": "code",
   "execution_count": 6,
   "metadata": {
    "colab": {
     "base_uri": "https://localhost:8080/"
    },
    "id": "x33DWYQjeOoW",
    "outputId": "d3f3c3ae-4323-48b5-951a-f43959c3ab0e"
   },
   "outputs": [
    {
     "name": "stdout",
     "output_type": "stream",
     "text": [
      "Is TensorFlow using GPU? []\n"
     ]
    }
   ],
   "source": [
    "import tensorflow as tf\n",
    "\n",
    "# Check if TensorFlow detects GPU\n",
    "print(\"Is TensorFlow using GPU?\", tf.config.list_physical_devices('GPU'))\n"
   ]
  },
  {
   "cell_type": "code",
   "execution_count": 7,
   "metadata": {
    "id": "zX2vE_s9kX3r"
   },
   "outputs": [],
   "source": [
    "df = pd.read_csv('filtered.csv')"
   ]
  },
  {
   "cell_type": "code",
   "execution_count": 8,
   "metadata": {
    "colab": {
     "base_uri": "https://localhost:8080/",
     "height": 0
    },
    "id": "u2DiVtF9kegK",
    "outputId": "3ea808e3-eb24-4341-f35c-69ac65c79181"
   },
   "outputs": [
    {
     "data": {
      "text/html": [
       "<div>\n",
       "<style scoped>\n",
       "    .dataframe tbody tr th:only-of-type {\n",
       "        vertical-align: middle;\n",
       "    }\n",
       "\n",
       "    .dataframe tbody tr th {\n",
       "        vertical-align: top;\n",
       "    }\n",
       "\n",
       "    .dataframe thead th {\n",
       "        text-align: right;\n",
       "    }\n",
       "</style>\n",
       "<table border=\"1\" class=\"dataframe\">\n",
       "  <thead>\n",
       "    <tr style=\"text-align: right;\">\n",
       "      <th></th>\n",
       "      <th>Unnamed: 0</th>\n",
       "      <th>Sport_-1</th>\n",
       "      <th>drug_1896</th>\n",
       "      <th>equity_1896</th>\n",
       "      <th>drug_1900</th>\n",
       "      <th>equity_1900</th>\n",
       "      <th>drug_1904</th>\n",
       "      <th>equity_1904</th>\n",
       "      <th>drug_1906</th>\n",
       "      <th>equity_1906</th>\n",
       "      <th>...</th>\n",
       "      <th>CV_1980</th>\n",
       "      <th>CV_1984</th>\n",
       "      <th>CV_1988</th>\n",
       "      <th>CV_1992</th>\n",
       "      <th>CV_1996</th>\n",
       "      <th>CV_2000</th>\n",
       "      <th>CV_2004</th>\n",
       "      <th>CV_2008</th>\n",
       "      <th>CV_2012</th>\n",
       "      <th>CV_2016</th>\n",
       "    </tr>\n",
       "  </thead>\n",
       "  <tbody>\n",
       "    <tr>\n",
       "      <th>0</th>\n",
       "      <td>0</td>\n",
       "      <td>Alpine Skiing</td>\n",
       "      <td>0.0</td>\n",
       "      <td>NaN</td>\n",
       "      <td>NaN</td>\n",
       "      <td>NaN</td>\n",
       "      <td>NaN</td>\n",
       "      <td>NaN</td>\n",
       "      <td>NaN</td>\n",
       "      <td>NaN</td>\n",
       "      <td>...</td>\n",
       "      <td>0.941454</td>\n",
       "      <td>0.810152</td>\n",
       "      <td>0.975410</td>\n",
       "      <td>1.038671</td>\n",
       "      <td>0.000000</td>\n",
       "      <td>0.000000</td>\n",
       "      <td>0.000000</td>\n",
       "      <td>0.000000</td>\n",
       "      <td>0.000000</td>\n",
       "      <td>0.000000</td>\n",
       "    </tr>\n",
       "    <tr>\n",
       "      <th>1</th>\n",
       "      <td>1</td>\n",
       "      <td>Alpinism</td>\n",
       "      <td>0.0</td>\n",
       "      <td>NaN</td>\n",
       "      <td>NaN</td>\n",
       "      <td>NaN</td>\n",
       "      <td>NaN</td>\n",
       "      <td>NaN</td>\n",
       "      <td>NaN</td>\n",
       "      <td>NaN</td>\n",
       "      <td>...</td>\n",
       "      <td>0.000000</td>\n",
       "      <td>0.000000</td>\n",
       "      <td>0.000000</td>\n",
       "      <td>0.000000</td>\n",
       "      <td>0.000000</td>\n",
       "      <td>0.000000</td>\n",
       "      <td>0.000000</td>\n",
       "      <td>0.000000</td>\n",
       "      <td>0.000000</td>\n",
       "      <td>0.000000</td>\n",
       "    </tr>\n",
       "    <tr>\n",
       "      <th>2</th>\n",
       "      <td>2</td>\n",
       "      <td>Archery</td>\n",
       "      <td>0.0</td>\n",
       "      <td>NaN</td>\n",
       "      <td>NaN</td>\n",
       "      <td>0.0</td>\n",
       "      <td>NaN</td>\n",
       "      <td>0.228571</td>\n",
       "      <td>NaN</td>\n",
       "      <td>NaN</td>\n",
       "      <td>...</td>\n",
       "      <td>0.518674</td>\n",
       "      <td>0.486000</td>\n",
       "      <td>0.736622</td>\n",
       "      <td>0.877037</td>\n",
       "      <td>0.872777</td>\n",
       "      <td>0.840279</td>\n",
       "      <td>0.893923</td>\n",
       "      <td>0.819216</td>\n",
       "      <td>0.751548</td>\n",
       "      <td>0.849326</td>\n",
       "    </tr>\n",
       "    <tr>\n",
       "      <th>3</th>\n",
       "      <td>3</td>\n",
       "      <td>Art Competitions</td>\n",
       "      <td>0.0</td>\n",
       "      <td>NaN</td>\n",
       "      <td>NaN</td>\n",
       "      <td>NaN</td>\n",
       "      <td>NaN</td>\n",
       "      <td>NaN</td>\n",
       "      <td>NaN</td>\n",
       "      <td>NaN</td>\n",
       "      <td>...</td>\n",
       "      <td>0.000000</td>\n",
       "      <td>0.000000</td>\n",
       "      <td>0.000000</td>\n",
       "      <td>0.000000</td>\n",
       "      <td>0.000000</td>\n",
       "      <td>0.000000</td>\n",
       "      <td>0.000000</td>\n",
       "      <td>0.000000</td>\n",
       "      <td>0.000000</td>\n",
       "      <td>0.000000</td>\n",
       "    </tr>\n",
       "    <tr>\n",
       "      <th>4</th>\n",
       "      <td>4</td>\n",
       "      <td>Athletics</td>\n",
       "      <td>0.0</td>\n",
       "      <td>0.0</td>\n",
       "      <td>NaN</td>\n",
       "      <td>0.0</td>\n",
       "      <td>NaN</td>\n",
       "      <td>0.000000</td>\n",
       "      <td>NaN</td>\n",
       "      <td>0.0</td>\n",
       "      <td>...</td>\n",
       "      <td>1.012697</td>\n",
       "      <td>1.053289</td>\n",
       "      <td>1.032190</td>\n",
       "      <td>0.986700</td>\n",
       "      <td>1.016212</td>\n",
       "      <td>0.982383</td>\n",
       "      <td>0.984688</td>\n",
       "      <td>1.058562</td>\n",
       "      <td>0.964608</td>\n",
       "      <td>0.974802</td>\n",
       "    </tr>\n",
       "  </tbody>\n",
       "</table>\n",
       "<p>5 rows × 187 columns</p>\n",
       "</div>"
      ],
      "text/plain": [
       "   Unnamed: 0          Sport_-1  drug_1896  equity_1896  drug_1900  \\\n",
       "0           0     Alpine Skiing        0.0          NaN        NaN   \n",
       "1           1          Alpinism        0.0          NaN        NaN   \n",
       "2           2           Archery        0.0          NaN        NaN   \n",
       "3           3  Art Competitions        0.0          NaN        NaN   \n",
       "4           4         Athletics        0.0          0.0        NaN   \n",
       "\n",
       "   equity_1900  drug_1904  equity_1904  drug_1906  equity_1906  ...   CV_1980  \\\n",
       "0          NaN        NaN          NaN        NaN          NaN  ...  0.941454   \n",
       "1          NaN        NaN          NaN        NaN          NaN  ...  0.000000   \n",
       "2          0.0        NaN     0.228571        NaN          NaN  ...  0.518674   \n",
       "3          NaN        NaN          NaN        NaN          NaN  ...  0.000000   \n",
       "4          0.0        NaN     0.000000        NaN          0.0  ...  1.012697   \n",
       "\n",
       "    CV_1984   CV_1988   CV_1992   CV_1996   CV_2000   CV_2004   CV_2008  \\\n",
       "0  0.810152  0.975410  1.038671  0.000000  0.000000  0.000000  0.000000   \n",
       "1  0.000000  0.000000  0.000000  0.000000  0.000000  0.000000  0.000000   \n",
       "2  0.486000  0.736622  0.877037  0.872777  0.840279  0.893923  0.819216   \n",
       "3  0.000000  0.000000  0.000000  0.000000  0.000000  0.000000  0.000000   \n",
       "4  1.053289  1.032190  0.986700  1.016212  0.982383  0.984688  1.058562   \n",
       "\n",
       "    CV_2012   CV_2016  \n",
       "0  0.000000  0.000000  \n",
       "1  0.000000  0.000000  \n",
       "2  0.751548  0.849326  \n",
       "3  0.000000  0.000000  \n",
       "4  0.964608  0.974802  \n",
       "\n",
       "[5 rows x 187 columns]"
      ]
     },
     "execution_count": 8,
     "metadata": {},
     "output_type": "execute_result"
    }
   ],
   "source": [
    "df.head()"
   ]
  },
  {
   "cell_type": "code",
   "execution_count": 9,
   "metadata": {
    "id": "sM5xE738m_WD"
   },
   "outputs": [
    {
     "name": "stderr",
     "output_type": "stream",
     "text": [
      "<>:15: SyntaxWarning: invalid escape sequence '\\d'\n",
      "<>:15: SyntaxWarning: invalid escape sequence '\\d'\n",
      "/tmp/ipykernel_31941/280139684.py:15: SyntaxWarning: invalid escape sequence '\\d'\n",
      "  year_variable_df['Year'] = year_variable_df['Year_Var'].str.extract('(\\d{4})').astype(int)\n"
     ]
    }
   ],
   "source": [
    "data_dict = {}\n",
    "\n",
    "for sport in df['Sport_-1'].unique():\n",
    "    sport_data = df[df['Sport_-1'] == sport]\n",
    "    sport_dict = {}\n",
    "\n",
    "    for variable in ['drug', 'equity', 'popularity', 'normalized_country', 'CV']:\n",
    "        # Filter the columns that belong to the current variable\n",
    "        variable_cols = [col for col in df.columns if col.startswith(variable)]\n",
    "\n",
    "        # Create a DataFrame with years and the corresponding values for this variable\n",
    "        year_variable_df = sport_data[variable_cols].melt(var_name='Year_Var', value_name=variable)\n",
    "\n",
    "        # Extract the year from the column names\n",
    "        year_variable_df['Year'] = year_variable_df['Year_Var'].str.extract('(\\d{4})').astype(int)\n",
    "        year_variable_df = year_variable_df[['Year', variable]].dropna()\n",
    "\n",
    "        # Add this DataFrame to the sport's dictionary\n",
    "        sport_dict[variable] = year_variable_df.reset_index(drop=True)\n",
    "\n",
    "    # Add the sport's dictionary to the main dictionary\n",
    "    data_dict[sport] = sport_dict"
   ]
  },
  {
   "cell_type": "markdown",
   "metadata": {
    "id": "CTW3GHmzpi7A"
   },
   "source": [
    "DIctionary is in the structure of,\n",
    "\n",
    "    \"Alpine Skiing\": {\n",
    "        \"drug\":       # DataFrame for the 'drug' variable\n",
    "                    Year    drug\n",
    "                    1896    0.0\n",
    "                    1900    NaN\n",
    "                    1904    NaN\n",
    "                    ...\n",
    "        \"equity\":    # DataFrame for the 'equity' variable\n",
    "                    Year    equity\n",
    "                    1896    NaN\n",
    "                    1900    NaN\n",
    "                    1904    NaN\n",
    "                    ...\n",
    "        \"popularity\": # DataFrame for the 'popularity' variable\n",
    "                    Year    popularity\n",
    "                    1896    NaN\n",
    "                    1900    NaN\n",
    "                    1904    NaN\n",
    "                    ...\n",
    "        \"normalized_country\": # DataFrame for 'normalized_country' variable\n",
    "                    Year    normalized_country\n",
    "                    1896    NaN\n",
    "                    1900    NaN\n",
    "                    1904    NaN\n",
    "                    ...\n",
    "        \"CV\":        # DataFrame for 'CV' variable\n",
    "                    Year    CV\n",
    "                    1980    0.94154\n",
    "                    1984    0.810152\n",
    "                    1988    0.975410\n",
    "                    ...\n",
    "    },\n",
    "\n",
    "\n",
    "    # Similar structure for other sports\n",
    "\n"
   ]
  },
  {
   "cell_type": "code",
   "execution_count": 10,
   "metadata": {
    "colab": {
     "base_uri": "https://localhost:8080/",
     "height": 0
    },
    "id": "1zUNrLCqp91g",
    "outputId": "05863bdc-71b2-4256-e632-642900cc81dc"
   },
   "outputs": [
    {
     "data": {
      "text/html": [
       "<div>\n",
       "<style scoped>\n",
       "    .dataframe tbody tr th:only-of-type {\n",
       "        vertical-align: middle;\n",
       "    }\n",
       "\n",
       "    .dataframe tbody tr th {\n",
       "        vertical-align: top;\n",
       "    }\n",
       "\n",
       "    .dataframe thead th {\n",
       "        text-align: right;\n",
       "    }\n",
       "</style>\n",
       "<table border=\"1\" class=\"dataframe\">\n",
       "  <thead>\n",
       "    <tr style=\"text-align: right;\">\n",
       "      <th></th>\n",
       "      <th>Year</th>\n",
       "      <th>CV</th>\n",
       "    </tr>\n",
       "  </thead>\n",
       "  <tbody>\n",
       "    <tr>\n",
       "      <th>0</th>\n",
       "      <td>1896</td>\n",
       "      <td>1.001050</td>\n",
       "    </tr>\n",
       "    <tr>\n",
       "      <th>1</th>\n",
       "      <td>1900</td>\n",
       "      <td>0.975667</td>\n",
       "    </tr>\n",
       "    <tr>\n",
       "      <th>2</th>\n",
       "      <td>1904</td>\n",
       "      <td>0.978102</td>\n",
       "    </tr>\n",
       "    <tr>\n",
       "      <th>3</th>\n",
       "      <td>1906</td>\n",
       "      <td>0.892952</td>\n",
       "    </tr>\n",
       "    <tr>\n",
       "      <th>4</th>\n",
       "      <td>1908</td>\n",
       "      <td>1.032252</td>\n",
       "    </tr>\n",
       "  </tbody>\n",
       "</table>\n",
       "</div>"
      ],
      "text/plain": [
       "   Year        CV\n",
       "0  1896  1.001050\n",
       "1  1900  0.975667\n",
       "2  1904  0.978102\n",
       "3  1906  0.892952\n",
       "4  1908  1.032252"
      ]
     },
     "execution_count": 10,
     "metadata": {},
     "output_type": "execute_result"
    }
   ],
   "source": [
    "df_Athletes_CV = data_dict['Athletics']['CV']\n",
    "df_Athletes_CV.head()"
   ]
  },
  {
   "cell_type": "markdown",
   "metadata": {
    "id": "qADI_JTb7HNS"
   },
   "source": [
    "# Processing Data"
   ]
  },
  {
   "cell_type": "code",
   "execution_count": 11,
   "metadata": {
    "colab": {
     "base_uri": "https://localhost:8080/"
    },
    "id": "uG8_del57tEi",
    "outputId": "32f15ed3-1b7a-45ec-9750-580d0883057b"
   },
   "outputs": [
    {
     "name": "stdout",
     "output_type": "stream",
     "text": [
      "Number of missing values in 'CV': 0\n"
     ]
    }
   ],
   "source": [
    "print(\"Number of missing values in 'CV':\", df_Athletes_CV['CV'].isnull().sum())\n"
   ]
  },
  {
   "cell_type": "code",
   "execution_count": 12,
   "metadata": {
    "id": "s0Knjxt77LEK"
   },
   "outputs": [],
   "source": [
    "df_Athletes_CV['CV'] = df_Athletes_CV['CV'].interpolate(method='linear')\n"
   ]
  },
  {
   "cell_type": "code",
   "execution_count": 13,
   "metadata": {
    "id": "zAXZ2Awq71qj"
   },
   "outputs": [],
   "source": [
    "df_Athletes_CV = df_Athletes_CV.sort_values('Year').reset_index(drop=True)\n"
   ]
  },
  {
   "cell_type": "code",
   "execution_count": 14,
   "metadata": {
    "id": "-QX6aJsF8BE5"
   },
   "outputs": [],
   "source": [
    "from sklearn.preprocessing import MinMaxScaler\n",
    "\n",
    "scaler = MinMaxScaler(feature_range=(0, 1))\n",
    "df_Athletes_CV['CV_scaled'] = scaler.fit_transform(df_Athletes_CV['CV'].values.reshape(-1, 1))\n"
   ]
  },
  {
   "cell_type": "code",
   "execution_count": 15,
   "metadata": {
    "id": "_sT1-N078Ica"
   },
   "outputs": [],
   "source": [
    "#creating lstm input\n",
    "def create_sequences(data, window_size):\n",
    "    X = []\n",
    "    y = []\n",
    "    for i in range(len(data) - window_size):\n",
    "        X.append(data[i:i + window_size])\n",
    "        y.append(data[i + window_size])\n",
    "    return np.array(X), np.array(y)\n"
   ]
  },
  {
   "cell_type": "code",
   "execution_count": 16,
   "metadata": {
    "id": "E_c4BpXJ8Pur"
   },
   "outputs": [],
   "source": [
    "window_size = 3  # You can adjust this value\n",
    "data = df_Athletes_CV['CV_scaled'].values\n",
    "X, y = create_sequences(data, window_size)"
   ]
  },
  {
   "cell_type": "code",
   "execution_count": 17,
   "metadata": {
    "id": "BRkk496V8UsU"
   },
   "outputs": [],
   "source": [
    "from sklearn.model_selection import train_test_split\n",
    "\n",
    "X_train, X_test, y_train, y_test = train_test_split(\n",
    "    X, y, test_size=0.2, shuffle=False)\n"
   ]
  },
  {
   "cell_type": "code",
   "execution_count": 18,
   "metadata": {
    "id": "WiScoUg98aKJ"
   },
   "outputs": [],
   "source": [
    "X_train = X_train.reshape((X_train.shape[0], X_train.shape[1], 1))\n",
    "X_test = X_test.reshape((X_test.shape[0], X_test.shape[1], 1))\n"
   ]
  },
  {
   "cell_type": "code",
   "execution_count": 19,
   "metadata": {},
   "outputs": [
    {
     "data": {
      "text/plain": [
       "array([[[0.44792083],\n",
       "        [0.38897715],\n",
       "        [0.26189651]],\n",
       "\n",
       "       [[0.38897715],\n",
       "        [0.26189651],\n",
       "        [0.34434052]],\n",
       "\n",
       "       [[0.26189651],\n",
       "        [0.34434052],\n",
       "        [0.24983563]],\n",
       "\n",
       "       [[0.34434052],\n",
       "        [0.24983563],\n",
       "        [0.25627456]],\n",
       "\n",
       "       [[0.24983563],\n",
       "        [0.25627456],\n",
       "        [0.46265091]],\n",
       "\n",
       "       [[0.25627456],\n",
       "        [0.46265091],\n",
       "        [0.20017976]]])"
      ]
     },
     "execution_count": 19,
     "metadata": {},
     "output_type": "execute_result"
    }
   ],
   "source": [
    "X_test"
   ]
  },
  {
   "cell_type": "markdown",
   "metadata": {
    "id": "CzFbfekvEL_U"
   },
   "source": [
    "# define visualization function"
   ]
  },
  {
   "cell_type": "code",
   "execution_count": null,
   "metadata": {
    "id": "GPVsrjXfEPLk"
   },
   "outputs": [],
   "source": [
    "import matplotlib.pyplot as plt\n",
    "from sklearn.metrics import mean_squared_error, r2_score\n",
    "\n",
    "def plot_training_history(history, metrics=('mse', 'r2_keras')):\n",
    "    \"\"\"\n",
    "    Plot training and validation metrics over epochs.\n",
    "\n",
    "    Args:\n",
    "        history: Keras History object after model training.\n",
    "        metrics: Tuple of metrics to plot. Default is ('mse', 'r2_keras').\n",
    "    \"\"\"\n",
    "    plt.figure(figsize=(12, 4))\n",
    "\n",
    "    # Plot each metric\n",
    "    for i, metric in enumerate(metrics):\n",
    "        plt.subplot(1, len(metrics), i + 1)\n",
    "        plt.plot(history.history[metric], label=f'Training {metric.upper()}')\n",
    "        plt.plot(history.history[f'val_{metric}'], label=f'Validation {metric.upper()}')\n",
    "        plt.title(f'{metric.upper()} Over Epochs')\n",
    "        plt.xlabel('Epochs')\n",
    "        plt.ylabel(metric.upper())\n",
    "        plt.legend()\n",
    "\n",
    "    plt.tight_layout()\n",
    "    plt.show()\n",
    "\n",
    "def evaluate_model(model, X_test, y_test):\n",
    "    \"\"\"\n",
    "    Evaluate the model on test data and compute MSE and R².\n",
    "\n",
    "    Args:\n",
    "        model: Trained model to evaluate.\n",
    "        X_test: Test input data.\n",
    "        y_test: Test target data.\n",
    "\n",
    "    Returns:\n",
    "        test_mse: Mean Squared Error on the test set.\n",
    "        test_r2: R² score on the test set.\n",
    "    \"\"\"\n",
    "    # Make predictions\n",
    "    y_pred = model.predict(X_test)\n",
    "\n",
    "    # Reshape y_test if necessary\n",
    "    if y_test.ndim > 1:\n",
    "        y_test = y_test.reshape(-1)\n",
    "\n",
    "    # Compute metrics\n",
    "    test_mse = mean_squared_error(y_test, y_pred)\n",
    "    test_r2 = r2_score(y_test, y_pred)\n",
    "\n",
    "    print(f\"Test MSE: {test_mse}\")\n",
    "    print(f\"Test R²: {test_r2}\")\n",
    "\n",
    "    return test_mse, test_r2\n",
    "\n",
    "def plot_predictions(model, data, window_size, scaler, years, target_column='CV_scaled', title='Actual vs Predicted CV Values Over Years'):\n",
    "    \"\"\"\n",
    "    Plot actual vs predicted values for a given model.\n",
    "\n",
    "    Args:\n",
    "        model: Trained model for prediction.\n",
    "        data: DataFrame or array containing the input data.\n",
    "        window_size: Size of the sequence window used during training.\n",
    "        scaler: Scaler object used for scaling the data.\n",
    "        years: Array of years corresponding to the data.\n",
    "        target_column: Column name of the scaled target variable in `data`.\n",
    "        title: Title for the plot.\n",
    "    \"\"\"\n",
    "    # Extract the target column as a NumPy array\n",
    "    data_values = data[target_column].values\n",
    "\n",
    "    # Create sequences\n",
    "    X_all, y_all = create_sequences(data_values, window_size)\n",
    "\n",
    "    # Reshape for LSTM input\n",
    "    X_all = X_all.reshape((X_all.shape[0], X_all.shape[1], 1))\n",
    "\n",
    "    # Make predictions\n",
    "    y_pred_scaled = model.predict(X_all)\n",
    "\n",
    "    # Inverse transform predictions and actual values\n",
    "    y_pred = scaler.inverse_transform(y_pred_scaled)\n",
    "    y_actual = scaler.inverse_transform(y_all.reshape(-1, 1))\n",
    "\n",
    "    # Adjust years to match the prediction length\n",
    "    adjusted_years = years[window_size:]\n",
    "\n",
    "    # Plot actual vs predicted values\n",
    "    plt.figure(figsize=(12, 6))\n",
    "    plt.plot(adjusted_years, y_actual, label='Actual', marker='o')\n",
    "    plt.plot(adjusted_years, y_pred, label='Predicted', marker='x')\n",
    "    plt.xlabel('Year')\n",
    "    plt.ylabel('CV')\n",
    "    plt.title(title)\n",
    "    plt.legend()\n",
    "    plt.grid(True)\n",
    "    plt.show()\n"
   ]
  },
  {
   "cell_type": "markdown",
   "metadata": {
    "id": "3VpoO0hXWh2g"
   },
   "source": [
    "# Attempt 5: LSTM + ARIMA (Hybrid Model), not that actually bad though\n",
    "\n"
   ]
  },
  {
   "cell_type": "code",
   "execution_count": null,
   "metadata": {
    "id": "U4nORqXRWmNY"
   },
   "outputs": [],
   "source": [
    "from statsmodels.tsa.arima.model import ARIMA\n",
    "import warnings\n",
    "warnings.filterwarnings(\"ignore\")"
   ]
  },
  {
   "cell_type": "code",
   "execution_count": null,
   "metadata": {
    "colab": {
     "base_uri": "https://localhost:8080/",
     "height": 206
    },
    "id": "3gjraqsWZGrC",
    "outputId": "34c2e8d7-df49-4804-c6bd-4e55723c933a"
   },
   "outputs": [
    {
     "data": {
      "application/vnd.google.colaboratory.intrinsic+json": {
       "summary": "{\n  \"name\": \"df\",\n  \"rows\": 29,\n  \"fields\": [\n    {\n      \"column\": \"Year\",\n      \"properties\": {\n        \"dtype\": \"number\",\n        \"std\": 37,\n        \"min\": 1896,\n        \"max\": 2016,\n        \"num_unique_values\": 29,\n        \"samples\": [\n          2012,\n          1968,\n          1952\n        ],\n        \"semantic_type\": \"\",\n        \"description\": \"\"\n      }\n    },\n    {\n      \"column\": \"CV\",\n      \"properties\": {\n        \"dtype\": \"number\",\n        \"std\": 0.08246388588046014,\n        \"min\": 0.892951768436883,\n        \"max\": 1.2509107178876575,\n        \"num_unique_values\": 29,\n        \"samples\": [\n          0.9646079043059592,\n          0.97101349123546,\n          1.064428674654733\n        ],\n        \"semantic_type\": \"\",\n        \"description\": \"\"\n      }\n    }\n  ]\n}",
       "type": "dataframe",
       "variable_name": "df"
      },
      "text/html": [
       "\n",
       "  <div id=\"df-2ddb0445-e20d-4d08-a0ed-a1a431362081\" class=\"colab-df-container\">\n",
       "    <div>\n",
       "<style scoped>\n",
       "    .dataframe tbody tr th:only-of-type {\n",
       "        vertical-align: middle;\n",
       "    }\n",
       "\n",
       "    .dataframe tbody tr th {\n",
       "        vertical-align: top;\n",
       "    }\n",
       "\n",
       "    .dataframe thead th {\n",
       "        text-align: right;\n",
       "    }\n",
       "</style>\n",
       "<table border=\"1\" class=\"dataframe\">\n",
       "  <thead>\n",
       "    <tr style=\"text-align: right;\">\n",
       "      <th></th>\n",
       "      <th>Year</th>\n",
       "      <th>CV</th>\n",
       "    </tr>\n",
       "  </thead>\n",
       "  <tbody>\n",
       "    <tr>\n",
       "      <th>0</th>\n",
       "      <td>1896</td>\n",
       "      <td>1.001050</td>\n",
       "    </tr>\n",
       "    <tr>\n",
       "      <th>1</th>\n",
       "      <td>1900</td>\n",
       "      <td>0.975667</td>\n",
       "    </tr>\n",
       "    <tr>\n",
       "      <th>2</th>\n",
       "      <td>1904</td>\n",
       "      <td>0.978102</td>\n",
       "    </tr>\n",
       "    <tr>\n",
       "      <th>3</th>\n",
       "      <td>1906</td>\n",
       "      <td>0.892952</td>\n",
       "    </tr>\n",
       "    <tr>\n",
       "      <th>4</th>\n",
       "      <td>1908</td>\n",
       "      <td>1.032252</td>\n",
       "    </tr>\n",
       "  </tbody>\n",
       "</table>\n",
       "</div>\n",
       "    <div class=\"colab-df-buttons\">\n",
       "\n",
       "  <div class=\"colab-df-container\">\n",
       "    <button class=\"colab-df-convert\" onclick=\"convertToInteractive('df-2ddb0445-e20d-4d08-a0ed-a1a431362081')\"\n",
       "            title=\"Convert this dataframe to an interactive table.\"\n",
       "            style=\"display:none;\">\n",
       "\n",
       "  <svg xmlns=\"http://www.w3.org/2000/svg\" height=\"24px\" viewBox=\"0 -960 960 960\">\n",
       "    <path d=\"M120-120v-720h720v720H120Zm60-500h600v-160H180v160Zm220 220h160v-160H400v160Zm0 220h160v-160H400v160ZM180-400h160v-160H180v160Zm440 0h160v-160H620v160ZM180-180h160v-160H180v160Zm440 0h160v-160H620v160Z\"/>\n",
       "  </svg>\n",
       "    </button>\n",
       "\n",
       "  <style>\n",
       "    .colab-df-container {\n",
       "      display:flex;\n",
       "      gap: 12px;\n",
       "    }\n",
       "\n",
       "    .colab-df-convert {\n",
       "      background-color: #E8F0FE;\n",
       "      border: none;\n",
       "      border-radius: 50%;\n",
       "      cursor: pointer;\n",
       "      display: none;\n",
       "      fill: #1967D2;\n",
       "      height: 32px;\n",
       "      padding: 0 0 0 0;\n",
       "      width: 32px;\n",
       "    }\n",
       "\n",
       "    .colab-df-convert:hover {\n",
       "      background-color: #E2EBFA;\n",
       "      box-shadow: 0px 1px 2px rgba(60, 64, 67, 0.3), 0px 1px 3px 1px rgba(60, 64, 67, 0.15);\n",
       "      fill: #174EA6;\n",
       "    }\n",
       "\n",
       "    .colab-df-buttons div {\n",
       "      margin-bottom: 4px;\n",
       "    }\n",
       "\n",
       "    [theme=dark] .colab-df-convert {\n",
       "      background-color: #3B4455;\n",
       "      fill: #D2E3FC;\n",
       "    }\n",
       "\n",
       "    [theme=dark] .colab-df-convert:hover {\n",
       "      background-color: #434B5C;\n",
       "      box-shadow: 0px 1px 3px 1px rgba(0, 0, 0, 0.15);\n",
       "      filter: drop-shadow(0px 1px 2px rgba(0, 0, 0, 0.3));\n",
       "      fill: #FFFFFF;\n",
       "    }\n",
       "  </style>\n",
       "\n",
       "    <script>\n",
       "      const buttonEl =\n",
       "        document.querySelector('#df-2ddb0445-e20d-4d08-a0ed-a1a431362081 button.colab-df-convert');\n",
       "      buttonEl.style.display =\n",
       "        google.colab.kernel.accessAllowed ? 'block' : 'none';\n",
       "\n",
       "      async function convertToInteractive(key) {\n",
       "        const element = document.querySelector('#df-2ddb0445-e20d-4d08-a0ed-a1a431362081');\n",
       "        const dataTable =\n",
       "          await google.colab.kernel.invokeFunction('convertToInteractive',\n",
       "                                                    [key], {});\n",
       "        if (!dataTable) return;\n",
       "\n",
       "        const docLinkHtml = 'Like what you see? Visit the ' +\n",
       "          '<a target=\"_blank\" href=https://colab.research.google.com/notebooks/data_table.ipynb>data table notebook</a>'\n",
       "          + ' to learn more about interactive tables.';\n",
       "        element.innerHTML = '';\n",
       "        dataTable['output_type'] = 'display_data';\n",
       "        await google.colab.output.renderOutput(dataTable, element);\n",
       "        const docLink = document.createElement('div');\n",
       "        docLink.innerHTML = docLinkHtml;\n",
       "        element.appendChild(docLink);\n",
       "      }\n",
       "    </script>\n",
       "  </div>\n",
       "\n",
       "\n",
       "<div id=\"df-157c9c03-bd62-486a-9e39-b2f9ccb2fa42\">\n",
       "  <button class=\"colab-df-quickchart\" onclick=\"quickchart('df-157c9c03-bd62-486a-9e39-b2f9ccb2fa42')\"\n",
       "            title=\"Suggest charts\"\n",
       "            style=\"display:none;\">\n",
       "\n",
       "<svg xmlns=\"http://www.w3.org/2000/svg\" height=\"24px\"viewBox=\"0 0 24 24\"\n",
       "     width=\"24px\">\n",
       "    <g>\n",
       "        <path d=\"M19 3H5c-1.1 0-2 .9-2 2v14c0 1.1.9 2 2 2h14c1.1 0 2-.9 2-2V5c0-1.1-.9-2-2-2zM9 17H7v-7h2v7zm4 0h-2V7h2v10zm4 0h-2v-4h2v4z\"/>\n",
       "    </g>\n",
       "</svg>\n",
       "  </button>\n",
       "\n",
       "<style>\n",
       "  .colab-df-quickchart {\n",
       "      --bg-color: #E8F0FE;\n",
       "      --fill-color: #1967D2;\n",
       "      --hover-bg-color: #E2EBFA;\n",
       "      --hover-fill-color: #174EA6;\n",
       "      --disabled-fill-color: #AAA;\n",
       "      --disabled-bg-color: #DDD;\n",
       "  }\n",
       "\n",
       "  [theme=dark] .colab-df-quickchart {\n",
       "      --bg-color: #3B4455;\n",
       "      --fill-color: #D2E3FC;\n",
       "      --hover-bg-color: #434B5C;\n",
       "      --hover-fill-color: #FFFFFF;\n",
       "      --disabled-bg-color: #3B4455;\n",
       "      --disabled-fill-color: #666;\n",
       "  }\n",
       "\n",
       "  .colab-df-quickchart {\n",
       "    background-color: var(--bg-color);\n",
       "    border: none;\n",
       "    border-radius: 50%;\n",
       "    cursor: pointer;\n",
       "    display: none;\n",
       "    fill: var(--fill-color);\n",
       "    height: 32px;\n",
       "    padding: 0;\n",
       "    width: 32px;\n",
       "  }\n",
       "\n",
       "  .colab-df-quickchart:hover {\n",
       "    background-color: var(--hover-bg-color);\n",
       "    box-shadow: 0 1px 2px rgba(60, 64, 67, 0.3), 0 1px 3px 1px rgba(60, 64, 67, 0.15);\n",
       "    fill: var(--button-hover-fill-color);\n",
       "  }\n",
       "\n",
       "  .colab-df-quickchart-complete:disabled,\n",
       "  .colab-df-quickchart-complete:disabled:hover {\n",
       "    background-color: var(--disabled-bg-color);\n",
       "    fill: var(--disabled-fill-color);\n",
       "    box-shadow: none;\n",
       "  }\n",
       "\n",
       "  .colab-df-spinner {\n",
       "    border: 2px solid var(--fill-color);\n",
       "    border-color: transparent;\n",
       "    border-bottom-color: var(--fill-color);\n",
       "    animation:\n",
       "      spin 1s steps(1) infinite;\n",
       "  }\n",
       "\n",
       "  @keyframes spin {\n",
       "    0% {\n",
       "      border-color: transparent;\n",
       "      border-bottom-color: var(--fill-color);\n",
       "      border-left-color: var(--fill-color);\n",
       "    }\n",
       "    20% {\n",
       "      border-color: transparent;\n",
       "      border-left-color: var(--fill-color);\n",
       "      border-top-color: var(--fill-color);\n",
       "    }\n",
       "    30% {\n",
       "      border-color: transparent;\n",
       "      border-left-color: var(--fill-color);\n",
       "      border-top-color: var(--fill-color);\n",
       "      border-right-color: var(--fill-color);\n",
       "    }\n",
       "    40% {\n",
       "      border-color: transparent;\n",
       "      border-right-color: var(--fill-color);\n",
       "      border-top-color: var(--fill-color);\n",
       "    }\n",
       "    60% {\n",
       "      border-color: transparent;\n",
       "      border-right-color: var(--fill-color);\n",
       "    }\n",
       "    80% {\n",
       "      border-color: transparent;\n",
       "      border-right-color: var(--fill-color);\n",
       "      border-bottom-color: var(--fill-color);\n",
       "    }\n",
       "    90% {\n",
       "      border-color: transparent;\n",
       "      border-bottom-color: var(--fill-color);\n",
       "    }\n",
       "  }\n",
       "</style>\n",
       "\n",
       "  <script>\n",
       "    async function quickchart(key) {\n",
       "      const quickchartButtonEl =\n",
       "        document.querySelector('#' + key + ' button');\n",
       "      quickchartButtonEl.disabled = true;  // To prevent multiple clicks.\n",
       "      quickchartButtonEl.classList.add('colab-df-spinner');\n",
       "      try {\n",
       "        const charts = await google.colab.kernel.invokeFunction(\n",
       "            'suggestCharts', [key], {});\n",
       "      } catch (error) {\n",
       "        console.error('Error during call to suggestCharts:', error);\n",
       "      }\n",
       "      quickchartButtonEl.classList.remove('colab-df-spinner');\n",
       "      quickchartButtonEl.classList.add('colab-df-quickchart-complete');\n",
       "    }\n",
       "    (() => {\n",
       "      let quickchartButtonEl =\n",
       "        document.querySelector('#df-157c9c03-bd62-486a-9e39-b2f9ccb2fa42 button');\n",
       "      quickchartButtonEl.style.display =\n",
       "        google.colab.kernel.accessAllowed ? 'block' : 'none';\n",
       "    })();\n",
       "  </script>\n",
       "</div>\n",
       "\n",
       "    </div>\n",
       "  </div>\n"
      ],
      "text/plain": [
       "   Year        CV\n",
       "0  1896  1.001050\n",
       "1  1900  0.975667\n",
       "2  1904  0.978102\n",
       "3  1906  0.892952\n",
       "4  1908  1.032252"
      ]
     },
     "execution_count": 20,
     "metadata": {},
     "output_type": "execute_result"
    }
   ],
   "source": [
    "df = data_dict['Athletics']['CV']\n",
    "df.head()"
   ]
  },
  {
   "cell_type": "code",
   "execution_count": null,
   "metadata": {
    "id": "NgviLO0BZRiS"
   },
   "outputs": [],
   "source": [
    "time_series_data = df['CV']"
   ]
  },
  {
   "cell_type": "code",
   "execution_count": null,
   "metadata": {
    "colab": {
     "base_uri": "https://localhost:8080/"
    },
    "id": "MfQ9p3OMbLbh",
    "outputId": "b5df4a36-616d-45f7-b2e1-92c86b3d9b9b"
   },
   "outputs": [
    {
     "name": "stdout",
     "output_type": "stream",
     "text": [
      "Requirement already satisfied: pmdarima in /usr/local/lib/python3.10/dist-packages (2.0.4)\n",
      "Requirement already satisfied: joblib>=0.11 in /usr/local/lib/python3.10/dist-packages (from pmdarima) (1.4.2)\n",
      "Requirement already satisfied: Cython!=0.29.18,!=0.29.31,>=0.29 in /usr/local/lib/python3.10/dist-packages (from pmdarima) (3.0.11)\n",
      "Requirement already satisfied: numpy>=1.21.2 in /usr/local/lib/python3.10/dist-packages (from pmdarima) (1.26.4)\n",
      "Requirement already satisfied: pandas>=0.19 in /usr/local/lib/python3.10/dist-packages (from pmdarima) (2.2.2)\n",
      "Requirement already satisfied: scikit-learn>=0.22 in /usr/local/lib/python3.10/dist-packages (from pmdarima) (1.5.2)\n",
      "Requirement already satisfied: scipy>=1.3.2 in /usr/local/lib/python3.10/dist-packages (from pmdarima) (1.13.1)\n",
      "Requirement already satisfied: statsmodels>=0.13.2 in /usr/local/lib/python3.10/dist-packages (from pmdarima) (0.14.4)\n",
      "Requirement already satisfied: urllib3 in /usr/local/lib/python3.10/dist-packages (from pmdarima) (2.2.3)\n",
      "Requirement already satisfied: setuptools!=50.0.0,>=38.6.0 in /usr/local/lib/python3.10/dist-packages (from pmdarima) (75.1.0)\n",
      "Requirement already satisfied: packaging>=17.1 in /usr/local/lib/python3.10/dist-packages (from pmdarima) (24.2)\n",
      "Requirement already satisfied: python-dateutil>=2.8.2 in /usr/local/lib/python3.10/dist-packages (from pandas>=0.19->pmdarima) (2.8.2)\n",
      "Requirement already satisfied: pytz>=2020.1 in /usr/local/lib/python3.10/dist-packages (from pandas>=0.19->pmdarima) (2024.2)\n",
      "Requirement already satisfied: tzdata>=2022.7 in /usr/local/lib/python3.10/dist-packages (from pandas>=0.19->pmdarima) (2024.2)\n",
      "Requirement already satisfied: threadpoolctl>=3.1.0 in /usr/local/lib/python3.10/dist-packages (from scikit-learn>=0.22->pmdarima) (3.5.0)\n",
      "Requirement already satisfied: patsy>=0.5.6 in /usr/local/lib/python3.10/dist-packages (from statsmodels>=0.13.2->pmdarima) (1.0.1)\n",
      "Requirement already satisfied: six>=1.5 in /usr/local/lib/python3.10/dist-packages (from python-dateutil>=2.8.2->pandas>=0.19->pmdarima) (1.16.0)\n"
     ]
    }
   ],
   "source": [
    "!pip install pmdarima\n"
   ]
  },
  {
   "cell_type": "code",
   "execution_count": null,
   "metadata": {
    "colab": {
     "base_uri": "https://localhost:8080/"
    },
    "id": "5tb0CeZIbDnQ",
    "outputId": "52ea867e-c00a-43c2-c186-cd6835b8951b"
   },
   "outputs": [
    {
     "name": "stdout",
     "output_type": "stream",
     "text": [
      "Performing stepwise search to minimize aic\n",
      " ARIMA(0,0,0)(0,0,0)[0]             : AIC=87.167, Time=0.06 sec\n",
      " ARIMA(1,0,0)(0,0,0)[0]             : AIC=inf, Time=0.04 sec\n",
      " ARIMA(0,0,1)(0,0,0)[0]             : AIC=inf, Time=0.04 sec\n",
      " ARIMA(1,0,1)(0,0,0)[0]             : AIC=-54.302, Time=0.04 sec\n",
      " ARIMA(2,0,1)(0,0,0)[0]             : AIC=inf, Time=0.13 sec\n",
      " ARIMA(1,0,2)(0,0,0)[0]             : AIC=-53.264, Time=0.16 sec\n",
      " ARIMA(0,0,2)(0,0,0)[0]             : AIC=inf, Time=0.30 sec\n",
      " ARIMA(2,0,0)(0,0,0)[0]             : AIC=inf, Time=0.09 sec\n",
      " ARIMA(2,0,2)(0,0,0)[0]             : AIC=inf, Time=0.15 sec\n",
      " ARIMA(1,0,1)(0,0,0)[0] intercept   : AIC=-61.894, Time=0.09 sec\n",
      " ARIMA(0,0,1)(0,0,0)[0] intercept   : AIC=-63.547, Time=0.28 sec\n",
      " ARIMA(0,0,0)(0,0,0)[0] intercept   : AIC=-59.452, Time=0.06 sec\n",
      " ARIMA(0,0,2)(0,0,0)[0] intercept   : AIC=-61.578, Time=0.25 sec\n",
      " ARIMA(1,0,0)(0,0,0)[0] intercept   : AIC=-63.880, Time=0.14 sec\n",
      " ARIMA(2,0,0)(0,0,0)[0] intercept   : AIC=-61.884, Time=0.17 sec\n",
      " ARIMA(2,0,1)(0,0,0)[0] intercept   : AIC=-59.944, Time=1.34 sec\n",
      "\n",
      "Best model:  ARIMA(1,0,0)(0,0,0)[0] intercept\n",
      "Total fit time: 3.393 seconds\n",
      "                               SARIMAX Results                                \n",
      "==============================================================================\n",
      "Dep. Variable:                      y   No. Observations:                   29\n",
      "Model:               SARIMAX(1, 0, 0)   Log Likelihood                  34.940\n",
      "Date:                Sun, 17 Nov 2024   AIC                            -63.880\n",
      "Time:                        06:22:22   BIC                            -59.778\n",
      "Sample:                             0   HQIC                           -62.595\n",
      "                                 - 29                                         \n",
      "Covariance Type:                  opg                                         \n",
      "==============================================================================\n",
      "                 coef    std err          z      P>|z|      [0.025      0.975]\n",
      "------------------------------------------------------------------------------\n",
      "intercept      0.5768      0.185      3.114      0.002       0.214       0.940\n",
      "ar.L1          0.4478      0.173      2.590      0.010       0.109       0.787\n",
      "sigma2         0.0052      0.002      3.133      0.002       0.002       0.008\n",
      "===================================================================================\n",
      "Ljung-Box (L1) (Q):                   0.00   Jarque-Bera (JB):                 1.85\n",
      "Prob(Q):                              0.98   Prob(JB):                         0.40\n",
      "Heteroskedasticity (H):               0.32   Skew:                             0.61\n",
      "Prob(H) (two-sided):                  0.09   Kurtosis:                         2.74\n",
      "===================================================================================\n",
      "\n",
      "Warnings:\n",
      "[1] Covariance matrix calculated using the outer product of gradients (complex-step).\n"
     ]
    }
   ],
   "source": [
    "import pmdarima as pm\n",
    "\n",
    "# Perform grid search for optimal ARIMA order\n",
    "model = pm.auto_arima(\n",
    "    time_series_data,\n",
    "    start_p=0, max_p=5,      # Range for p\n",
    "    start_q=0, max_q=5,      # Range for q\n",
    "    d=None,                  # Automatically determine d\n",
    "    start_d=0, max_d=2,      # Differencing range\n",
    "    seasonal=False,          # Use seasonal=True for SARIMA\n",
    "    trace=True,              # Print search progress\n",
    "    error_action='ignore',   # Ignore errors during search\n",
    "    suppress_warnings=True,  # Suppress warnings\n",
    "    stepwise=True            # Use stepwise algorithm for efficiency\n",
    ")\n",
    "\n",
    "# Display the best model summary\n",
    "print(model.summary())\n"
   ]
  },
  {
   "cell_type": "code",
   "execution_count": null,
   "metadata": {
    "colab": {
     "base_uri": "https://localhost:8080/"
    },
    "id": "gqO0nJRDbagd",
    "outputId": "9acadd13-92f7-45a5-dbff-1f05ffb92ea4"
   },
   "outputs": [
    {
     "name": "stdout",
     "output_type": "stream",
     "text": [
      "                               SARIMAX Results                                \n",
      "==============================================================================\n",
      "Dep. Variable:                     CV   No. Observations:                   29\n",
      "Model:                 ARIMA(1, 0, 0)   Log Likelihood                  34.940\n",
      "Date:                Sun, 17 Nov 2024   AIC                            -63.880\n",
      "Time:                        06:22:22   BIC                            -59.778\n",
      "Sample:                             0   HQIC                           -62.595\n",
      "                                 - 29                                         \n",
      "Covariance Type:                  opg                                         \n",
      "==============================================================================\n",
      "                 coef    std err          z      P>|z|      [0.025      0.975]\n",
      "------------------------------------------------------------------------------\n",
      "const          1.0444      0.028     36.902      0.000       0.989       1.100\n",
      "ar.L1          0.4467      0.173      2.583      0.010       0.108       0.786\n",
      "sigma2         0.0052      0.002      3.132      0.002       0.002       0.008\n",
      "===================================================================================\n",
      "Ljung-Box (L1) (Q):                   0.00   Jarque-Bera (JB):                 1.86\n",
      "Prob(Q):                              0.97   Prob(JB):                         0.39\n",
      "Heteroskedasticity (H):               0.32   Skew:                             0.61\n",
      "Prob(H) (two-sided):                  0.09   Kurtosis:                         2.75\n",
      "===================================================================================\n",
      "\n",
      "Warnings:\n",
      "[1] Covariance matrix calculated using the outer product of gradients (complex-step).\n"
     ]
    }
   ],
   "source": [
    "from statsmodels.tsa.arima.model import ARIMA\n",
    "\n",
    "# Extract the best order\n",
    "best_order = model.order  # (p, d, q)\n",
    "\n",
    "# Fit ARIMA with the optimal order\n",
    "arima_model = ARIMA(time_series_data, order=best_order).fit()\n",
    "\n",
    "# Summary of the ARIMA model\n",
    "print(arima_model.summary())\n"
   ]
  },
  {
   "cell_type": "code",
   "execution_count": null,
   "metadata": {
    "id": "hgN1_KmFbjri"
   },
   "outputs": [],
   "source": [
    "model_arima = ARIMA(df['CV'], order=(1,0,0))\n",
    "model_arima_fit = model_arima.fit()\n",
    "\n",
    "# Generate in-sample predictions\n",
    "df['CV_arima_pred'] = model_arima_fit.predict(start=df.index[1], end=df.index[-1])\n",
    "\n",
    "# Calculate residuals\n",
    "df['CV_residual'] = df['CV'] - df['CV_arima_pred']"
   ]
  },
  {
   "cell_type": "code",
   "execution_count": null,
   "metadata": {
    "id": "Ih-L_KDxbvvj"
   },
   "outputs": [],
   "source": [
    "from sklearn.preprocessing import MinMaxScaler\n",
    "\n",
    "# Reset index for LSTM processing\n",
    "df.reset_index(inplace=True)\n",
    "\n",
    "# Handle missing values in residuals\n",
    "df['CV_residual'].fillna(method='bfill', inplace=True)\n",
    "\n",
    "# Normalize residuals\n",
    "scaler = MinMaxScaler(feature_range=(0, 1))\n",
    "df['CV_residual_scaled'] = scaler.fit_transform(df['CV_residual'].values.reshape(-1,1))\n",
    "\n",
    "# Create sequences\n",
    "def create_sequences(data, window_size):\n",
    "    X = []\n",
    "    y = []\n",
    "    for i in range(len(data) - window_size):\n",
    "        X.append(data[i:i + window_size])\n",
    "        y.append(data[i + window_size])\n",
    "    return np.array(X), np.array(y)\n",
    "\n",
    "window_size = 3  # Adjust as needed\n",
    "data = df['CV_residual_scaled'].values\n",
    "X, y = create_sequences(data, window_size)\n",
    "\n",
    "# Split into train and test sets\n",
    "split_ratio = 0.8\n",
    "split_index = int(len(X) * split_ratio)\n",
    "\n",
    "X_train = X[:split_index]\n",
    "y_train = y[:split_index]\n",
    "X_test = X[split_index:]\n",
    "y_test = y[split_index:]\n",
    "\n",
    "# Reshape input for LSTM [samples, time steps, features]\n",
    "X_train = X_train.reshape((X_train.shape[0], window_size, 1))\n",
    "X_test = X_test.reshape((X_test.shape[0], window_size, 1))\n"
   ]
  },
  {
   "cell_type": "code",
   "execution_count": null,
   "metadata": {
    "id": "BbR8dsz6cxYK"
   },
   "outputs": [],
   "source": [
    "optimizer5  = Adam(learning_rate=0.0001)"
   ]
  },
  {
   "cell_type": "code",
   "execution_count": null,
   "metadata": {
    "colab": {
     "base_uri": "https://localhost:8080/"
    },
    "collapsed": true,
    "id": "h6UL85JYb7xh",
    "outputId": "0ffe1991-93d4-487f-a53f-1772335c1599"
   },
   "outputs": [
    {
     "name": "stdout",
     "output_type": "stream",
     "text": [
      "Epoch 1/500\n",
      "\u001b[1m20/20\u001b[0m \u001b[32m━━━━━━━━━━━━━━━━━━━━\u001b[0m\u001b[37m\u001b[0m \u001b[1m2s\u001b[0m 30ms/step - loss: 0.3391 - val_loss: 0.1325\n",
      "Epoch 2/500\n",
      "\u001b[1m20/20\u001b[0m \u001b[32m━━━━━━━━━━━━━━━━━━━━\u001b[0m\u001b[37m\u001b[0m \u001b[1m0s\u001b[0m 8ms/step - loss: 0.3839 - val_loss: 0.1263\n",
      "Epoch 3/500\n",
      "\u001b[1m20/20\u001b[0m \u001b[32m━━━━━━━━━━━━━━━━━━━━\u001b[0m\u001b[37m\u001b[0m \u001b[1m0s\u001b[0m 8ms/step - loss: 0.2355 - val_loss: 0.1206\n",
      "Epoch 4/500\n",
      "\u001b[1m20/20\u001b[0m \u001b[32m━━━━━━━━━━━━━━━━━━━━\u001b[0m\u001b[37m\u001b[0m \u001b[1m0s\u001b[0m 5ms/step - loss: 0.3878 - val_loss: 0.1145\n",
      "Epoch 5/500\n",
      "\u001b[1m20/20\u001b[0m \u001b[32m━━━━━━━━━━━━━━━━━━━━\u001b[0m\u001b[37m\u001b[0m \u001b[1m0s\u001b[0m 5ms/step - loss: 0.2686 - val_loss: 0.1091\n",
      "Epoch 6/500\n",
      "\u001b[1m20/20\u001b[0m \u001b[32m━━━━━━━━━━━━━━━━━━━━\u001b[0m\u001b[37m\u001b[0m \u001b[1m0s\u001b[0m 5ms/step - loss: 0.2636 - val_loss: 0.1035\n",
      "Epoch 7/500\n",
      "\u001b[1m20/20\u001b[0m \u001b[32m━━━━━━━━━━━━━━━━━━━━\u001b[0m\u001b[37m\u001b[0m \u001b[1m0s\u001b[0m 4ms/step - loss: 0.3368 - val_loss: 0.0979\n",
      "Epoch 8/500\n",
      "\u001b[1m20/20\u001b[0m \u001b[32m━━━━━━━━━━━━━━━━━━━━\u001b[0m\u001b[37m\u001b[0m \u001b[1m0s\u001b[0m 4ms/step - loss: 0.2240 - val_loss: 0.0930\n",
      "Epoch 9/500\n",
      "\u001b[1m20/20\u001b[0m \u001b[32m━━━━━━━━━━━━━━━━━━━━\u001b[0m\u001b[37m\u001b[0m \u001b[1m0s\u001b[0m 4ms/step - loss: 0.1878 - val_loss: 0.0877\n",
      "Epoch 10/500\n",
      "\u001b[1m20/20\u001b[0m \u001b[32m━━━━━━━━━━━━━━━━━━━━\u001b[0m\u001b[37m\u001b[0m \u001b[1m0s\u001b[0m 5ms/step - loss: 0.2039 - val_loss: 0.0826\n",
      "Epoch 11/500\n",
      "\u001b[1m20/20\u001b[0m \u001b[32m━━━━━━━━━━━━━━━━━━━━\u001b[0m\u001b[37m\u001b[0m \u001b[1m0s\u001b[0m 8ms/step - loss: 0.2207 - val_loss: 0.0772\n",
      "Epoch 12/500\n",
      "\u001b[1m20/20\u001b[0m \u001b[32m━━━━━━━━━━━━━━━━━━━━\u001b[0m\u001b[37m\u001b[0m \u001b[1m0s\u001b[0m 8ms/step - loss: 0.1823 - val_loss: 0.0722\n",
      "Epoch 13/500\n",
      "\u001b[1m20/20\u001b[0m \u001b[32m━━━━━━━━━━━━━━━━━━━━\u001b[0m\u001b[37m\u001b[0m \u001b[1m0s\u001b[0m 7ms/step - loss: 0.2118 - val_loss: 0.0673\n",
      "Epoch 14/500\n",
      "\u001b[1m20/20\u001b[0m \u001b[32m━━━━━━━━━━━━━━━━━━━━\u001b[0m\u001b[37m\u001b[0m \u001b[1m0s\u001b[0m 4ms/step - loss: 0.2351 - val_loss: 0.0626\n",
      "Epoch 15/500\n",
      "\u001b[1m20/20\u001b[0m \u001b[32m━━━━━━━━━━━━━━━━━━━━\u001b[0m\u001b[37m\u001b[0m \u001b[1m0s\u001b[0m 6ms/step - loss: 0.2040 - val_loss: 0.0577\n",
      "Epoch 16/500\n",
      "\u001b[1m20/20\u001b[0m \u001b[32m━━━━━━━━━━━━━━━━━━━━\u001b[0m\u001b[37m\u001b[0m \u001b[1m0s\u001b[0m 7ms/step - loss: 0.2319 - val_loss: 0.0535\n",
      "Epoch 17/500\n",
      "\u001b[1m20/20\u001b[0m \u001b[32m━━━━━━━━━━━━━━━━━━━━\u001b[0m\u001b[37m\u001b[0m \u001b[1m0s\u001b[0m 6ms/step - loss: 0.1780 - val_loss: 0.0489\n",
      "Epoch 18/500\n",
      "\u001b[1m20/20\u001b[0m \u001b[32m━━━━━━━━━━━━━━━━━━━━\u001b[0m\u001b[37m\u001b[0m \u001b[1m0s\u001b[0m 8ms/step - loss: 0.2013 - val_loss: 0.0451\n",
      "Epoch 19/500\n",
      "\u001b[1m20/20\u001b[0m \u001b[32m━━━━━━━━━━━━━━━━━━━━\u001b[0m\u001b[37m\u001b[0m \u001b[1m0s\u001b[0m 6ms/step - loss: 0.2634 - val_loss: 0.0409\n",
      "Epoch 20/500\n",
      "\u001b[1m20/20\u001b[0m \u001b[32m━━━━━━━━━━━━━━━━━━━━\u001b[0m\u001b[37m\u001b[0m \u001b[1m0s\u001b[0m 5ms/step - loss: 0.0855 - val_loss: 0.0379\n",
      "Epoch 21/500\n",
      "\u001b[1m20/20\u001b[0m \u001b[32m━━━━━━━━━━━━━━━━━━━━\u001b[0m\u001b[37m\u001b[0m \u001b[1m0s\u001b[0m 6ms/step - loss: 0.1708 - val_loss: 0.0341\n",
      "Epoch 22/500\n",
      "\u001b[1m20/20\u001b[0m \u001b[32m━━━━━━━━━━━━━━━━━━━━\u001b[0m\u001b[37m\u001b[0m \u001b[1m0s\u001b[0m 7ms/step - loss: 0.1806 - val_loss: 0.0310\n",
      "Epoch 23/500\n",
      "\u001b[1m20/20\u001b[0m \u001b[32m━━━━━━━━━━━━━━━━━━━━\u001b[0m\u001b[37m\u001b[0m \u001b[1m0s\u001b[0m 9ms/step - loss: 0.1725 - val_loss: 0.0284\n",
      "Epoch 24/500\n",
      "\u001b[1m20/20\u001b[0m \u001b[32m━━━━━━━━━━━━━━━━━━━━\u001b[0m\u001b[37m\u001b[0m \u001b[1m0s\u001b[0m 13ms/step - loss: 0.1406 - val_loss: 0.0265\n",
      "Epoch 25/500\n",
      "\u001b[1m20/20\u001b[0m \u001b[32m━━━━━━━━━━━━━━━━━━━━\u001b[0m\u001b[37m\u001b[0m \u001b[1m0s\u001b[0m 7ms/step - loss: 0.1055 - val_loss: 0.0245\n",
      "Epoch 26/500\n",
      "\u001b[1m20/20\u001b[0m \u001b[32m━━━━━━━━━━━━━━━━━━━━\u001b[0m\u001b[37m\u001b[0m \u001b[1m0s\u001b[0m 12ms/step - loss: 0.1280 - val_loss: 0.0227\n",
      "Epoch 27/500\n",
      "\u001b[1m20/20\u001b[0m \u001b[32m━━━━━━━━━━━━━━━━━━━━\u001b[0m\u001b[37m\u001b[0m \u001b[1m0s\u001b[0m 7ms/step - loss: 0.1179 - val_loss: 0.0216\n",
      "Epoch 28/500\n",
      "\u001b[1m20/20\u001b[0m \u001b[32m━━━━━━━━━━━━━━━━━━━━\u001b[0m\u001b[37m\u001b[0m \u001b[1m0s\u001b[0m 7ms/step - loss: 0.0983 - val_loss: 0.0207\n",
      "Epoch 29/500\n",
      "\u001b[1m20/20\u001b[0m \u001b[32m━━━━━━━━━━━━━━━━━━━━\u001b[0m\u001b[37m\u001b[0m \u001b[1m0s\u001b[0m 4ms/step - loss: 0.0927 - val_loss: 0.0201\n",
      "Epoch 30/500\n",
      "\u001b[1m20/20\u001b[0m \u001b[32m━━━━━━━━━━━━━━━━━━━━\u001b[0m\u001b[37m\u001b[0m \u001b[1m0s\u001b[0m 5ms/step - loss: 0.0758 - val_loss: 0.0197\n",
      "Epoch 31/500\n",
      "\u001b[1m20/20\u001b[0m \u001b[32m━━━━━━━━━━━━━━━━━━━━\u001b[0m\u001b[37m\u001b[0m \u001b[1m0s\u001b[0m 5ms/step - loss: 0.1182 - val_loss: 0.0195\n",
      "Epoch 32/500\n",
      "\u001b[1m20/20\u001b[0m \u001b[32m━━━━━━━━━━━━━━━━━━━━\u001b[0m\u001b[37m\u001b[0m \u001b[1m0s\u001b[0m 12ms/step - loss: 0.1107 - val_loss: 0.0195\n",
      "Epoch 33/500\n",
      "\u001b[1m20/20\u001b[0m \u001b[32m━━━━━━━━━━━━━━━━━━━━\u001b[0m\u001b[37m\u001b[0m \u001b[1m1s\u001b[0m 8ms/step - loss: 0.1007 - val_loss: 0.0197\n",
      "Epoch 34/500\n",
      "\u001b[1m20/20\u001b[0m \u001b[32m━━━━━━━━━━━━━━━━━━━━\u001b[0m\u001b[37m\u001b[0m \u001b[1m0s\u001b[0m 10ms/step - loss: 0.1061 - val_loss: 0.0200\n",
      "Epoch 35/500\n",
      "\u001b[1m20/20\u001b[0m \u001b[32m━━━━━━━━━━━━━━━━━━━━\u001b[0m\u001b[37m\u001b[0m \u001b[1m0s\u001b[0m 9ms/step - loss: 0.0881 - val_loss: 0.0204\n",
      "Epoch 36/500\n",
      "\u001b[1m20/20\u001b[0m \u001b[32m━━━━━━━━━━━━━━━━━━━━\u001b[0m\u001b[37m\u001b[0m \u001b[1m0s\u001b[0m 11ms/step - loss: 0.1071 - val_loss: 0.0207\n",
      "Epoch 37/500\n",
      "\u001b[1m20/20\u001b[0m \u001b[32m━━━━━━━━━━━━━━━━━━━━\u001b[0m\u001b[37m\u001b[0m \u001b[1m0s\u001b[0m 11ms/step - loss: 0.1019 - val_loss: 0.0211\n",
      "Epoch 38/500\n",
      "\u001b[1m20/20\u001b[0m \u001b[32m━━━━━━━━━━━━━━━━━━━━\u001b[0m\u001b[37m\u001b[0m \u001b[1m0s\u001b[0m 8ms/step - loss: 0.0829 - val_loss: 0.0216\n",
      "Epoch 39/500\n",
      "\u001b[1m20/20\u001b[0m \u001b[32m━━━━━━━━━━━━━━━━━━━━\u001b[0m\u001b[37m\u001b[0m \u001b[1m0s\u001b[0m 11ms/step - loss: 0.0804 - val_loss: 0.0223\n",
      "Epoch 40/500\n",
      "\u001b[1m20/20\u001b[0m \u001b[32m━━━━━━━━━━━━━━━━━━━━\u001b[0m\u001b[37m\u001b[0m \u001b[1m0s\u001b[0m 11ms/step - loss: 0.1228 - val_loss: 0.0225\n",
      "Epoch 41/500\n",
      "\u001b[1m20/20\u001b[0m \u001b[32m━━━━━━━━━━━━━━━━━━━━\u001b[0m\u001b[37m\u001b[0m \u001b[1m1s\u001b[0m 12ms/step - loss: 0.0914 - val_loss: 0.0227\n",
      "Epoch 42/500\n",
      "\u001b[1m20/20\u001b[0m \u001b[32m━━━━━━━━━━━━━━━━━━━━\u001b[0m\u001b[37m\u001b[0m \u001b[1m0s\u001b[0m 9ms/step - loss: 0.0605 - val_loss: 0.0228\n",
      "Epoch 43/500\n",
      "\u001b[1m20/20\u001b[0m \u001b[32m━━━━━━━━━━━━━━━━━━━━\u001b[0m\u001b[37m\u001b[0m \u001b[1m0s\u001b[0m 10ms/step - loss: 0.0762 - val_loss: 0.0232\n",
      "Epoch 44/500\n",
      "\u001b[1m20/20\u001b[0m \u001b[32m━━━━━━━━━━━━━━━━━━━━\u001b[0m\u001b[37m\u001b[0m \u001b[1m0s\u001b[0m 11ms/step - loss: 0.0646 - val_loss: 0.0236\n",
      "Epoch 45/500\n",
      "\u001b[1m20/20\u001b[0m \u001b[32m━━━━━━━━━━━━━━━━━━━━\u001b[0m\u001b[37m\u001b[0m \u001b[1m0s\u001b[0m 8ms/step - loss: 0.1091 - val_loss: 0.0243\n",
      "Epoch 46/500\n",
      "\u001b[1m20/20\u001b[0m \u001b[32m━━━━━━━━━━━━━━━━━━━━\u001b[0m\u001b[37m\u001b[0m \u001b[1m0s\u001b[0m 5ms/step - loss: 0.0695 - val_loss: 0.0242\n",
      "Epoch 47/500\n",
      "\u001b[1m20/20\u001b[0m \u001b[32m━━━━━━━━━━━━━━━━━━━━\u001b[0m\u001b[37m\u001b[0m \u001b[1m0s\u001b[0m 9ms/step - loss: 0.0617 - val_loss: 0.0243\n",
      "Epoch 48/500\n",
      "\u001b[1m20/20\u001b[0m \u001b[32m━━━━━━━━━━━━━━━━━━━━\u001b[0m\u001b[37m\u001b[0m \u001b[1m0s\u001b[0m 11ms/step - loss: 0.1015 - val_loss: 0.0244\n",
      "Epoch 49/500\n",
      "\u001b[1m20/20\u001b[0m \u001b[32m━━━━━━━━━━━━━━━━━━━━\u001b[0m\u001b[37m\u001b[0m \u001b[1m0s\u001b[0m 12ms/step - loss: 0.1071 - val_loss: 0.0251\n",
      "Epoch 50/500\n",
      "\u001b[1m20/20\u001b[0m \u001b[32m━━━━━━━━━━━━━━━━━━━━\u001b[0m\u001b[37m\u001b[0m \u001b[1m0s\u001b[0m 9ms/step - loss: 0.1110 - val_loss: 0.0251\n",
      "Epoch 51/500\n",
      "\u001b[1m20/20\u001b[0m \u001b[32m━━━━━━━━━━━━━━━━━━━━\u001b[0m\u001b[37m\u001b[0m \u001b[1m0s\u001b[0m 9ms/step - loss: 0.0697 - val_loss: 0.0249\n",
      "Epoch 52/500\n",
      "\u001b[1m20/20\u001b[0m \u001b[32m━━━━━━━━━━━━━━━━━━━━\u001b[0m\u001b[37m\u001b[0m \u001b[1m0s\u001b[0m 7ms/step - loss: 0.0822 - val_loss: 0.0253\n",
      "Epoch 53/500\n",
      "\u001b[1m20/20\u001b[0m \u001b[32m━━━━━━━━━━━━━━━━━━━━\u001b[0m\u001b[37m\u001b[0m \u001b[1m0s\u001b[0m 5ms/step - loss: 0.0823 - val_loss: 0.0253\n",
      "Epoch 54/500\n",
      "\u001b[1m20/20\u001b[0m \u001b[32m━━━━━━━━━━━━━━━━━━━━\u001b[0m\u001b[37m\u001b[0m \u001b[1m0s\u001b[0m 10ms/step - loss: 0.1430 - val_loss: 0.0263\n",
      "Epoch 55/500\n",
      "\u001b[1m20/20\u001b[0m \u001b[32m━━━━━━━━━━━━━━━━━━━━\u001b[0m\u001b[37m\u001b[0m \u001b[1m0s\u001b[0m 5ms/step - loss: 0.0655 - val_loss: 0.0253\n",
      "Epoch 56/500\n",
      "\u001b[1m20/20\u001b[0m \u001b[32m━━━━━━━━━━━━━━━━━━━━\u001b[0m\u001b[37m\u001b[0m \u001b[1m0s\u001b[0m 6ms/step - loss: 0.1096 - val_loss: 0.0258\n",
      "Epoch 57/500\n",
      "\u001b[1m20/20\u001b[0m \u001b[32m━━━━━━━━━━━━━━━━━━━━\u001b[0m\u001b[37m\u001b[0m \u001b[1m0s\u001b[0m 5ms/step - loss: 0.0962 - val_loss: 0.0260\n",
      "Epoch 58/500\n",
      "\u001b[1m20/20\u001b[0m \u001b[32m━━━━━━━━━━━━━━━━━━━━\u001b[0m\u001b[37m\u001b[0m \u001b[1m0s\u001b[0m 7ms/step - loss: 0.0782 - val_loss: 0.0261\n",
      "Epoch 59/500\n",
      "\u001b[1m20/20\u001b[0m \u001b[32m━━━━━━━━━━━━━━━━━━━━\u001b[0m\u001b[37m\u001b[0m \u001b[1m0s\u001b[0m 5ms/step - loss: 0.1101 - val_loss: 0.0258\n",
      "Epoch 60/500\n",
      "\u001b[1m20/20\u001b[0m \u001b[32m━━━━━━━━━━━━━━━━━━━━\u001b[0m\u001b[37m\u001b[0m \u001b[1m0s\u001b[0m 3ms/step - loss: 0.0908 - val_loss: 0.0260\n",
      "Epoch 61/500\n",
      "\u001b[1m20/20\u001b[0m \u001b[32m━━━━━━━━━━━━━━━━━━━━\u001b[0m\u001b[37m\u001b[0m \u001b[1m0s\u001b[0m 3ms/step - loss: 0.0701 - val_loss: 0.0262\n",
      "Epoch 62/500\n",
      "\u001b[1m20/20\u001b[0m \u001b[32m━━━━━━━━━━━━━━━━━━━━\u001b[0m\u001b[37m\u001b[0m \u001b[1m0s\u001b[0m 3ms/step - loss: 0.1158 - val_loss: 0.0261\n",
      "Epoch 63/500\n",
      "\u001b[1m20/20\u001b[0m \u001b[32m━━━━━━━━━━━━━━━━━━━━\u001b[0m\u001b[37m\u001b[0m \u001b[1m0s\u001b[0m 3ms/step - loss: 0.1021 - val_loss: 0.0265\n",
      "Epoch 64/500\n",
      "\u001b[1m20/20\u001b[0m \u001b[32m━━━━━━━━━━━━━━━━━━━━\u001b[0m\u001b[37m\u001b[0m \u001b[1m0s\u001b[0m 3ms/step - loss: 0.0936 - val_loss: 0.0265\n",
      "Epoch 65/500\n",
      "\u001b[1m20/20\u001b[0m \u001b[32m━━━━━━━━━━━━━━━━━━━━\u001b[0m\u001b[37m\u001b[0m \u001b[1m0s\u001b[0m 3ms/step - loss: 0.0967 - val_loss: 0.0265\n",
      "Epoch 66/500\n",
      "\u001b[1m20/20\u001b[0m \u001b[32m━━━━━━━━━━━━━━━━━━━━\u001b[0m\u001b[37m\u001b[0m \u001b[1m0s\u001b[0m 4ms/step - loss: 0.1037 - val_loss: 0.0263\n",
      "Epoch 67/500\n",
      "\u001b[1m20/20\u001b[0m \u001b[32m━━━━━━━━━━━━━━━━━━━━\u001b[0m\u001b[37m\u001b[0m \u001b[1m0s\u001b[0m 3ms/step - loss: 0.0878 - val_loss: 0.0268\n",
      "Epoch 68/500\n",
      "\u001b[1m20/20\u001b[0m \u001b[32m━━━━━━━━━━━━━━━━━━━━\u001b[0m\u001b[37m\u001b[0m \u001b[1m0s\u001b[0m 3ms/step - loss: 0.1003 - val_loss: 0.0266\n",
      "Epoch 69/500\n",
      "\u001b[1m20/20\u001b[0m \u001b[32m━━━━━━━━━━━━━━━━━━━━\u001b[0m\u001b[37m\u001b[0m \u001b[1m0s\u001b[0m 3ms/step - loss: 0.0649 - val_loss: 0.0268\n",
      "Epoch 70/500\n",
      "\u001b[1m20/20\u001b[0m \u001b[32m━━━━━━━━━━━━━━━━━━━━\u001b[0m\u001b[37m\u001b[0m \u001b[1m0s\u001b[0m 3ms/step - loss: 0.1016 - val_loss: 0.0272\n",
      "Epoch 71/500\n",
      "\u001b[1m20/20\u001b[0m \u001b[32m━━━━━━━━━━━━━━━━━━━━\u001b[0m\u001b[37m\u001b[0m \u001b[1m0s\u001b[0m 3ms/step - loss: 0.0858 - val_loss: 0.0265\n",
      "Epoch 72/500\n",
      "\u001b[1m20/20\u001b[0m \u001b[32m━━━━━━━━━━━━━━━━━━━━\u001b[0m\u001b[37m\u001b[0m \u001b[1m0s\u001b[0m 4ms/step - loss: 0.1348 - val_loss: 0.0265\n",
      "Epoch 73/500\n",
      "\u001b[1m20/20\u001b[0m \u001b[32m━━━━━━━━━━━━━━━━━━━━\u001b[0m\u001b[37m\u001b[0m \u001b[1m0s\u001b[0m 3ms/step - loss: 0.0757 - val_loss: 0.0266\n",
      "Epoch 74/500\n",
      "\u001b[1m20/20\u001b[0m \u001b[32m━━━━━━━━━━━━━━━━━━━━\u001b[0m\u001b[37m\u001b[0m \u001b[1m0s\u001b[0m 4ms/step - loss: 0.0969 - val_loss: 0.0266\n",
      "Epoch 75/500\n",
      "\u001b[1m20/20\u001b[0m \u001b[32m━━━━━━━━━━━━━━━━━━━━\u001b[0m\u001b[37m\u001b[0m \u001b[1m0s\u001b[0m 3ms/step - loss: 0.0631 - val_loss: 0.0268\n",
      "Epoch 76/500\n",
      "\u001b[1m20/20\u001b[0m \u001b[32m━━━━━━━━━━━━━━━━━━━━\u001b[0m\u001b[37m\u001b[0m \u001b[1m0s\u001b[0m 4ms/step - loss: 0.0889 - val_loss: 0.0272\n",
      "Epoch 77/500\n",
      "\u001b[1m20/20\u001b[0m \u001b[32m━━━━━━━━━━━━━━━━━━━━\u001b[0m\u001b[37m\u001b[0m \u001b[1m0s\u001b[0m 3ms/step - loss: 0.0863 - val_loss: 0.0269\n",
      "Epoch 78/500\n",
      "\u001b[1m20/20\u001b[0m \u001b[32m━━━━━━━━━━━━━━━━━━━━\u001b[0m\u001b[37m\u001b[0m \u001b[1m0s\u001b[0m 3ms/step - loss: 0.0847 - val_loss: 0.0270\n",
      "Epoch 79/500\n",
      "\u001b[1m20/20\u001b[0m \u001b[32m━━━━━━━━━━━━━━━━━━━━\u001b[0m\u001b[37m\u001b[0m \u001b[1m0s\u001b[0m 3ms/step - loss: 0.1229 - val_loss: 0.0273\n",
      "Epoch 80/500\n",
      "\u001b[1m20/20\u001b[0m \u001b[32m━━━━━━━━━━━━━━━━━━━━\u001b[0m\u001b[37m\u001b[0m \u001b[1m0s\u001b[0m 3ms/step - loss: 0.0928 - val_loss: 0.0268\n",
      "Epoch 81/500\n",
      "\u001b[1m20/20\u001b[0m \u001b[32m━━━━━━━━━━━━━━━━━━━━\u001b[0m\u001b[37m\u001b[0m \u001b[1m0s\u001b[0m 3ms/step - loss: 0.0732 - val_loss: 0.0271\n"
     ]
    }
   ],
   "source": [
    "# Build LSTM model\n",
    "model_lstm = Sequential()\n",
    "model_lstm.add(LSTM(units=50, activation='relu', input_shape=(window_size, 1)))\n",
    "model_lstm.add(Dense(units=1))\n",
    "\n",
    "# Compile model\n",
    "model_lstm.compile(optimizer=optimizer5, loss='mean_squared_error')\n",
    "\n",
    "# Early stopping\n",
    "early_stopping = EarlyStopping(monitor='val_loss', patience=50, restore_best_weights=True)\n",
    "\n",
    "# Train model\n",
    "history5 = model_lstm.fit(\n",
    "    X_train, y_train,\n",
    "    epochs=500,\n",
    "    batch_size=1,\n",
    "    validation_data=(X_test, y_test),\n",
    "    callbacks=[early_stopping],\n",
    "    verbose=1\n",
    ")\n"
   ]
  },
  {
   "cell_type": "code",
   "execution_count": null,
   "metadata": {
    "colab": {
     "base_uri": "https://localhost:8080/"
    },
    "id": "HiAum_XGc9kK",
    "outputId": "a59d0890-7c3e-44b4-acab-c679e2f27131"
   },
   "outputs": [
    {
     "name": "stdout",
     "output_type": "stream",
     "text": [
      "\u001b[1m1/1\u001b[0m \u001b[32m━━━━━━━━━━━━━━━━━━━━\u001b[0m\u001b[37m\u001b[0m \u001b[1m1s\u001b[0m 528ms/step\n"
     ]
    }
   ],
   "source": [
    "# Make predictions on the test set residuals\n",
    "y_pred_residual_scaled = model_lstm.predict(X_test)\n",
    "\n",
    "# Inverse transform the scaled residual predictions\n",
    "y_pred_residual = scaler.inverse_transform(y_pred_residual_scaled)\n"
   ]
  },
  {
   "cell_type": "code",
   "execution_count": null,
   "metadata": {
    "id": "r5PySfLvdWHE"
   },
   "outputs": [],
   "source": [
    "# Get ARIMA predictions for the test set\n",
    "test_indices = df.index[window_size + split_index:]\n",
    "\n",
    "arima_pred_test = df.loc[test_indices, 'CV_arima_pred'].values\n",
    "\n",
    "# Combine ARIMA predictions with LSTM residual predictions\n",
    "final_pred = arima_pred_test + y_pred_residual.flatten()\n"
   ]
  },
  {
   "cell_type": "code",
   "execution_count": null,
   "metadata": {
    "colab": {
     "base_uri": "https://localhost:8080/"
    },
    "id": "ypEhM275dCcs",
    "outputId": "97f254fd-7384-4a3c-e693-96eb6f57b9dc"
   },
   "outputs": [
    {
     "name": "stdout",
     "output_type": "stream",
     "text": [
      "Hybrid Model Test MSE: 0.0015279687294593996\n",
      "Hybrid Model Test R²: -0.511312168472067\n"
     ]
    }
   ],
   "source": [
    "from sklearn.metrics import mean_squared_error, r2_score\n",
    "\n",
    "# Actual CV values for test set\n",
    "y_actual = df.loc[test_indices, 'CV'].values\n",
    "\n",
    "# Evaluate\n",
    "mse = mean_squared_error(y_actual, final_pred)\n",
    "r2 = r2_score(y_actual, final_pred)\n",
    "\n",
    "print(f\"Hybrid Model Test MSE: {mse}\")\n",
    "print(f\"Hybrid Model Test R²: {r2}\")\n"
   ]
  },
  {
   "cell_type": "code",
   "execution_count": null,
   "metadata": {
    "colab": {
     "base_uri": "https://localhost:8080/",
     "height": 564
    },
    "id": "vlMgSwj7ddKj",
    "outputId": "3637f4ac-4bdb-474c-c73e-ff98951c951e"
   },
   "outputs": [
    {
     "data": {
      "image/png": "[encoded data removed]",
      "text/plain": [
       "<Figure size 1200x600 with 1 Axes>"
      ]
     },
     "metadata": {},
     "output_type": "display_data"
    }
   ],
   "source": [
    "import matplotlib.pyplot as plt\n",
    "\n",
    "# Years for plotting\n",
    "test_years = df.loc[test_indices, 'Year'].values\n",
    "\n",
    "plt.figure(figsize=(12,6))\n",
    "plt.plot(test_years, y_actual, label='Actual CV', marker='o')\n",
    "plt.plot(test_years, arima_pred_test, label='ARIMA Predictions', marker='x')\n",
    "plt.plot(test_years, final_pred, label='Hybrid ARIMA-LSTM Predictions', marker='^')\n",
    "plt.xlabel('Year')\n",
    "plt.ylabel('CV')\n",
    "plt.title('Actual vs ARIMA and Hybrid ARIMA-LSTM Predictions')\n",
    "plt.legend()\n",
    "plt.grid(True)\n",
    "plt.show()\n"
   ]
  },
  {
   "cell_type": "code",
   "execution_count": null,
   "metadata": {
    "colab": {
     "base_uri": "https://localhost:8080/",
     "height": 581
    },
    "id": "jTc_sFA6VPVl",
    "outputId": "ababfdd0-bc2a-43a7-e2b1-e1e981683213"
   },
   "outputs": [
    {
     "name": "stdout",
     "output_type": "stream",
     "text": [
      "\u001b[1m1/1\u001b[0m \u001b[32m━━━━━━━━━━━━━━━━━━━━\u001b[0m\u001b[37m\u001b[0m \u001b[1m0s\u001b[0m 387ms/step\n"
     ]
    },
    {
     "data": {
      "image/png": "[encoded data removed]",
      "text/plain": [
       "<Figure size 1200x600 with 1 Axes>"
      ]
     },
     "metadata": {},
     "output_type": "display_data"
    }
   ],
   "source": [
    "# Step 1: Predict ARIMA values for all years in the DataFrame\n",
    "arima_all_pred = model_arima_fit.predict(start=df.index[0], end=df.index[-1])\n",
    "\n",
    "# Step 2: Prepare residuals for LSTM predictions (all years)\n",
    "# Normalize ARIMA residuals for the entire dataset\n",
    "df['CV_residual'] = df['CV'] - arima_all_pred\n",
    "df['CV_residual'].fillna(method='bfill', inplace=True)\n",
    "df['CV_residual_scaled'] = scaler.transform(df['CV_residual'].values.reshape(-1, 1))\n",
    "\n",
    "# Create sequences for the entire dataset\n",
    "data_all = df['CV_residual_scaled'].values\n",
    "X_all, _ = create_sequences(data_all, window_size)\n",
    "\n",
    "# Reshape input for LSTM\n",
    "X_all = X_all.reshape((X_all.shape[0], window_size, 1))\n",
    "\n",
    "# Step 3: Predict LSTM residuals for all sequences\n",
    "lstm_all_residual_scaled = model_lstm.predict(X_all)\n",
    "\n",
    "# Inverse scaling of residual predictions\n",
    "lstm_all_residual = scaler.inverse_transform(lstm_all_residual_scaled)\n",
    "\n",
    "# Step 4: Combine ARIMA predictions with LSTM residual predictions\n",
    "# Extend ARIMA predictions to match the LSTM output\n",
    "hybrid_all_pred = arima_all_pred[window_size:] + lstm_all_residual.flatten()\n",
    "\n",
    "# Actual values (aligned with hybrid predictions)\n",
    "actual_values = df['CV'].values[window_size:]\n",
    "\n",
    "# Step 5: Plot actual vs. hybrid predictions\n",
    "import matplotlib.pyplot as plt\n",
    "\n",
    "# Get years corresponding to hybrid predictions\n",
    "years = df['Year'].values[window_size:]\n",
    "\n",
    "plt.figure(figsize=(12, 6))\n",
    "plt.plot(years, actual_values, label='Actual CV', marker='o')\n",
    "plt.plot(years, hybrid_all_pred, label='Hybrid ARIMA-LSTM Predictions', marker='^')\n",
    "plt.xlabel('Year')\n",
    "plt.ylabel('CV')\n",
    "plt.title('Actual vs Hybrid ARIMA-LSTM Predictions (All Years)')\n",
    "plt.legend()\n",
    "plt.grid(True)\n",
    "plt.show()\n"
   ]
  },
  {
   "cell_type": "code",
   "execution_count": null,
   "metadata": {
    "colab": {
     "base_uri": "https://localhost:8080/"
    },
    "id": "uqbe4jRbwDR3",
    "outputId": "e163f596-85c5-4d25-f992-08d774207b2b"
   },
   "outputs": [
    {
     "name": "stdout",
     "output_type": "stream",
     "text": [
      "R² value: 0.09015289433008433\n"
     ]
    }
   ],
   "source": [
    "r2 = r2_score(actual_values, hybrid_all_pred)\n",
    "print(\"R² value:\", r2)"
   ]
  },
  {
   "cell_type": "code",
   "execution_count": null,
   "metadata": {
    "id": "fCTWyFVCSUhG"
   },
   "outputs": [],
   "source": []
  }
 ],
 "metadata": {
  "accelerator": "GPU",
  "colab": {
   "gpuType": "T4",
   "provenance": []
  },
  "kernelspec": {
   "display_name": ".venv",
   "language": "python",
   "name": "python3"
  },
  "language_info": {
   "codemirror_mode": {
    "name": "ipython",
    "version": 3
   },
   "file_extension": ".py",
   "mimetype": "text/x-python",
   "name": "python",
   "nbconvert_exporter": "python",
   "pygments_lexer": "ipython3",
   "version": "3.12.3"
  }
 },
 "nbformat": 4,
 "nbformat_minor": 0
}
