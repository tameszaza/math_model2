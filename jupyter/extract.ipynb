{
 "cells": [
  {
   "cell_type": "code",
   "execution_count": null,
   "metadata": {},
   "outputs": [],
   "source": [
    "import requests\n",
    "from bs4 import BeautifulSoup\n",
    "import csv\n",
    "\n",
    "url = 'https://olympics.com/en/paris-2024/athletes'\n",
    "response = requests.get(url)\n",
    "soup = BeautifulSoup(response.text, 'html.parser')\n",
    "\n",
    "# Find the relevant HTML elements\n",
    "athletes = soup.find_all('div', class_='athlete-card')\n",
    "\n",
    "with open('athletes.csv', 'w', newline='') as csvfile:\n",
    "    fieldnames = ['Name', 'Nationality', 'Sport']\n",
    "    writer = csv.DictWriter(csvfile, fieldnames=fieldnames)\n",
    "    writer.writeheader()\n",
    "\n",
    "    for athlete in athletes:\n",
    "        name = athlete.find('h2', class_='athlete-name').text.strip()\n",
    "        nationality = athlete.find('span', class_='athlete-country').text.strip()\n",
    "        sport = athlete.find('span', class_='athlete-sport').text.strip()\n",
    "        writer.writerow({'Name': name, 'Nationality': nationality, 'Sport': sport})\n"
   ]
  }
 ],
 "metadata": {
  "kernelspec": {
   "display_name": ".venv",
   "language": "python",
   "name": "python3"
  },
  "language_info": {
   "name": "python",
   "version": "3.12.3"
  }
 },
 "nbformat": 4,
 "nbformat_minor": 2
}
